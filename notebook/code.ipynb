{
 "cells": [
  {
   "cell_type": "markdown",
   "metadata": {},
   "source": [
    "# Speed dating data manipulation #Block2\n",
    "Jedha certification - speed dating project."
   ]
  },
  {
   "cell_type": "code",
   "execution_count": 166,
   "metadata": {},
   "outputs": [],
   "source": [
    "# import\n",
    "import os\n",
    "import json\n",
    "import pandas as pd\n",
    "import seaborn as sns\n",
    "import matplotlib.pyplot as plt\n",
    "from IPython.display import display"
   ]
  },
  {
   "cell_type": "markdown",
   "metadata": {},
   "source": [
    "### Configurations\n"
   ]
  },
  {
   "cell_type": "code",
   "execution_count": 167,
   "metadata": {},
   "outputs": [
    {
     "data": {
      "text/plain": [
       "\"Customize color : ['#265952', '#DFCEEB', '#DBDE2F', '#45201E', '#c7ac92', '#a44a3f']\""
      ]
     },
     "metadata": {},
     "output_type": "display_data"
    }
   ],
   "source": [
    "config = json.load(open(\"../config.json\", \"r\"))\n",
    "color_palette = config[\"color_palette\"]\n",
    "display(f\"Customize color : {color_palette}\")"
   ]
  },
  {
   "cell_type": "code",
   "execution_count": 168,
   "metadata": {},
   "outputs": [],
   "source": [
    "# searbon customize palette color\n",
    "sns.set_palette(sns.color_palette(color_palette))\n",
    "# sns.set_theme()"
   ]
  },
  {
   "cell_type": "markdown",
   "metadata": {},
   "source": [
    "### Dataset"
   ]
  },
  {
   "cell_type": "code",
   "execution_count": 169,
   "metadata": {},
   "outputs": [
    {
     "data": {
      "text/html": [
       "<div>\n",
       "<style scoped>\n",
       "    .dataframe tbody tr th:only-of-type {\n",
       "        vertical-align: middle;\n",
       "    }\n",
       "\n",
       "    .dataframe tbody tr th {\n",
       "        vertical-align: top;\n",
       "    }\n",
       "\n",
       "    .dataframe thead th {\n",
       "        text-align: right;\n",
       "    }\n",
       "</style>\n",
       "<table border=\"1\" class=\"dataframe\">\n",
       "  <thead>\n",
       "    <tr style=\"text-align: right;\">\n",
       "      <th></th>\n",
       "      <th>iid</th>\n",
       "      <th>id</th>\n",
       "      <th>gender</th>\n",
       "      <th>idg</th>\n",
       "      <th>condtn</th>\n",
       "      <th>wave</th>\n",
       "      <th>round</th>\n",
       "      <th>position</th>\n",
       "      <th>positin1</th>\n",
       "      <th>order</th>\n",
       "      <th>...</th>\n",
       "      <th>attr3_3</th>\n",
       "      <th>sinc3_3</th>\n",
       "      <th>intel3_3</th>\n",
       "      <th>fun3_3</th>\n",
       "      <th>amb3_3</th>\n",
       "      <th>attr5_3</th>\n",
       "      <th>sinc5_3</th>\n",
       "      <th>intel5_3</th>\n",
       "      <th>fun5_3</th>\n",
       "      <th>amb5_3</th>\n",
       "    </tr>\n",
       "  </thead>\n",
       "  <tbody>\n",
       "    <tr>\n",
       "      <th>2177</th>\n",
       "      <td>159</td>\n",
       "      <td>2.0</td>\n",
       "      <td>1</td>\n",
       "      <td>4</td>\n",
       "      <td>2</td>\n",
       "      <td>7</td>\n",
       "      <td>16</td>\n",
       "      <td>6</td>\n",
       "      <td>8.0</td>\n",
       "      <td>15</td>\n",
       "      <td>...</td>\n",
       "      <td>6.0</td>\n",
       "      <td>12.0</td>\n",
       "      <td>9.0</td>\n",
       "      <td>8.0</td>\n",
       "      <td>9.0</td>\n",
       "      <td>NaN</td>\n",
       "      <td>NaN</td>\n",
       "      <td>NaN</td>\n",
       "      <td>NaN</td>\n",
       "      <td>NaN</td>\n",
       "    </tr>\n",
       "    <tr>\n",
       "      <th>6442</th>\n",
       "      <td>417</td>\n",
       "      <td>2.0</td>\n",
       "      <td>0</td>\n",
       "      <td>3</td>\n",
       "      <td>1</td>\n",
       "      <td>16</td>\n",
       "      <td>8</td>\n",
       "      <td>8</td>\n",
       "      <td>8.0</td>\n",
       "      <td>3</td>\n",
       "      <td>...</td>\n",
       "      <td>NaN</td>\n",
       "      <td>NaN</td>\n",
       "      <td>NaN</td>\n",
       "      <td>NaN</td>\n",
       "      <td>NaN</td>\n",
       "      <td>NaN</td>\n",
       "      <td>NaN</td>\n",
       "      <td>NaN</td>\n",
       "      <td>NaN</td>\n",
       "      <td>NaN</td>\n",
       "    </tr>\n",
       "  </tbody>\n",
       "</table>\n",
       "<p>2 rows × 195 columns</p>\n",
       "</div>"
      ],
      "text/plain": [
       "      iid   id  gender  idg  condtn  wave  round  position  positin1  order  \\\n",
       "2177  159  2.0       1    4       2     7     16         6       8.0     15   \n",
       "6442  417  2.0       0    3       1    16      8         8       8.0      3   \n",
       "\n",
       "      ...  attr3_3  sinc3_3  intel3_3  fun3_3  amb3_3  attr5_3  sinc5_3  \\\n",
       "2177  ...      6.0     12.0       9.0     8.0     9.0      NaN      NaN   \n",
       "6442  ...      NaN      NaN       NaN     NaN     NaN      NaN      NaN   \n",
       "\n",
       "      intel5_3  fun5_3  amb5_3  \n",
       "2177       NaN     NaN     NaN  \n",
       "6442       NaN     NaN     NaN  \n",
       "\n",
       "[2 rows x 195 columns]"
      ]
     },
     "metadata": {},
     "output_type": "display_data"
    }
   ],
   "source": [
    "# load dataframe\n",
    "def load_data(file_name) :\n",
    "    \"\"\" load_data()\n",
    "    \"\"\"\n",
    "    # read\n",
    "    df_dating = pd.read_csv(file_name, encoding='ISO-8859-1')\n",
    "    display(df_dating.sample(2))\n",
    "    return df_dating\n",
    "\n",
    "## RUN\n",
    "file_name = \"../data/Speed Dating Data.csv\"\n",
    "df_dating = load_data(file_name)"
   ]
  },
  {
   "cell_type": "markdown",
   "metadata": {},
   "source": [
    "### Descriptive statistics\n",
    "Describe dataset, verify come assumptions & others stuff."
   ]
  },
  {
   "cell_type": "markdown",
   "metadata": {},
   "source": [
    "#### General stats"
   ]
  },
  {
   "cell_type": "code",
   "execution_count": 170,
   "metadata": {},
   "outputs": [
    {
     "name": "stdout",
     "output_type": "stream",
     "text": [
      "<class 'pandas.core.frame.DataFrame'>\n",
      "RangeIndex: 8378 entries, 0 to 8377\n",
      "Columns: 195 entries, iid to amb5_3\n",
      "dtypes: float64(174), int64(13), object(8)\n",
      "memory usage: 12.5+ MB\n"
     ]
    },
    {
     "data": {
      "text/plain": [
       "None"
      ]
     },
     "metadata": {},
     "output_type": "display_data"
    }
   ],
   "source": [
    "## info\n",
    "display(df_dating.info())"
   ]
  },
  {
   "cell_type": "code",
   "execution_count": 171,
   "metadata": {},
   "outputs": [
    {
     "name": "stdout",
     "output_type": "stream",
     "text": [
      "Features in dataset are : Index(['iid', 'id', 'gender', 'idg', 'condtn', 'wave', 'round', 'position',\n",
      "       'positin1', 'order',\n",
      "       ...\n",
      "       'attr3_3', 'sinc3_3', 'intel3_3', 'fun3_3', 'amb3_3', 'attr5_3',\n",
      "       'sinc5_3', 'intel5_3', 'fun5_3', 'amb5_3'],\n",
      "      dtype='object', length=195)\n"
     ]
    }
   ],
   "source": [
    "## columns\n",
    "columns_name = df_dating.columns\n",
    "print(f\"Features in dataset are : {columns_name}\")\n",
    "\n"
   ]
  },
  {
   "cell_type": "code",
   "execution_count": 172,
   "metadata": {},
   "outputs": [
    {
     "name": "stdout",
     "output_type": "stream",
     "text": [
      "Dataset contains 8378 results and 195 features.\n"
     ]
    }
   ],
   "source": [
    "## number of values\n",
    "n_records, n_features = df_dating.shape[0], df_dating.shape[1]\n",
    "print(\"Dataset contains {} results and {} features.\".format(n_records, n_features))"
   ]
  },
  {
   "cell_type": "code",
   "execution_count": 173,
   "metadata": {},
   "outputs": [
    {
     "name": "stdout",
     "output_type": "stream",
     "text": [
      "We have 552 unique people in dataset.\n"
     ]
    }
   ],
   "source": [
    "## number of different people\n",
    "n_people = df_dating[\"iid\"].max()\n",
    "print(\"We have {} unique people in dataset.\".format(n_people))"
   ]
  },
  {
   "cell_type": "markdown",
   "metadata": {},
   "source": [
    "#### Gender, age, race \n",
    "assumption : Is communuatarism a primary attribute in the choice of a partner?"
   ]
  },
  {
   "cell_type": "code",
   "execution_count": 180,
   "metadata": {},
   "outputs": [
    {
     "data": {
      "image/png": "[encoded data removed]",
      "text/plain": [
       "<Figure size 432x288 with 1 Axes>"
      ]
     },
     "metadata": {},
     "output_type": "display_data"
    }
   ],
   "source": [
    "## gender proportion\n",
    "### apply func\n",
    "def gender_number_to_name(x) :\n",
    "    gender_name = None\n",
    "    if x == 1 :\n",
    "        gender_name = \"Male\"\n",
    "    if x == 0 :\n",
    "        gender_name = \"Female\"\n",
    "    return gender_name\n",
    "    \n",
    "df_gender = (df_dating[[\"iid\", \"gender\", \"age\"]].groupby([\"iid\", \"gender\"]).first()).reset_index()[\"gender\"].value_counts()\n",
    "df_gender = pd.DataFrame(df_gender).reset_index()\n",
    "df_gender = df_gender.rename(columns={\"index\" : \"gender\", \"gender\":\"size\"})\n",
    "df_gender[\"gender\"] = df_gender[\"gender\"].apply(lambda gender : gender_number_to_name(gender))\n",
    "\n",
    "# bar plot by gender\n",
    "ax = sns.barplot(x=\"gender\", y=\"size\", data=df_gender)\n"
   ]
  },
  {
   "cell_type": "code",
   "execution_count": 175,
   "metadata": {},
   "outputs": [
    {
     "data": {
      "text/html": [
       "<div>\n",
       "<style scoped>\n",
       "    .dataframe tbody tr th:only-of-type {\n",
       "        vertical-align: middle;\n",
       "    }\n",
       "\n",
       "    .dataframe tbody tr th {\n",
       "        vertical-align: top;\n",
       "    }\n",
       "\n",
       "    .dataframe thead th {\n",
       "        text-align: right;\n",
       "    }\n",
       "</style>\n",
       "<table border=\"1\" class=\"dataframe\">\n",
       "  <thead>\n",
       "    <tr style=\"text-align: right;\">\n",
       "      <th></th>\n",
       "      <th>race</th>\n",
       "      <th>size</th>\n",
       "    </tr>\n",
       "  </thead>\n",
       "  <tbody>\n",
       "    <tr>\n",
       "      <th>0</th>\n",
       "      <td>Black</td>\n",
       "      <td>420</td>\n",
       "    </tr>\n",
       "    <tr>\n",
       "      <th>1</th>\n",
       "      <td>European</td>\n",
       "      <td>4722</td>\n",
       "    </tr>\n",
       "    <tr>\n",
       "      <th>2</th>\n",
       "      <td>Latino</td>\n",
       "      <td>664</td>\n",
       "    </tr>\n",
       "    <tr>\n",
       "      <th>3</th>\n",
       "      <td>Asian</td>\n",
       "      <td>1978</td>\n",
       "    </tr>\n",
       "    <tr>\n",
       "      <th>4</th>\n",
       "      <td>Other</td>\n",
       "      <td>521</td>\n",
       "    </tr>\n",
       "  </tbody>\n",
       "</table>\n",
       "</div>"
      ],
      "text/plain": [
       "       race  size\n",
       "0     Black   420\n",
       "1  European  4722\n",
       "2    Latino   664\n",
       "3     Asian  1978\n",
       "4     Other   521"
      ]
     },
     "metadata": {},
     "output_type": "display_data"
    },
    {
     "data": {
      "image/png": "[encoded data removed]",
      "text/plain": [
       "<Figure size 432x288 with 1 Axes>"
      ]
     },
     "metadata": {},
     "output_type": "display_data"
    }
   ],
   "source": [
    "## race proportion\n",
    "### apply func\n",
    "def race_number_to_name(x) :\n",
    "    race_name = None\n",
    "    if x == 1 :\n",
    "        race_name = \"Black\" #/African American\n",
    "    if x == 2 :\n",
    "        race_name = \"European\" #/Caucasian-American\n",
    "    if x == 3 :\n",
    "        race_name = \"Latino\" #/Hispanic American\n",
    "    if x == 4 :\n",
    "        race_name = \"Asian\" #/Pacific Islander/Asian-American\n",
    "    if x == 5 :\n",
    "        race_name = \"Native American\"\n",
    "    if x == 6 :\n",
    "        race_name = \"Other\"\n",
    "\n",
    "    return race_name\n",
    "\n",
    "# size by race \n",
    "df_race = pd.DataFrame(df_dating.groupby([\"race_o\"]).size()).reset_index()\n",
    "df_race = df_race.rename(columns={0 : \"size\", \"race_o\" : \"race\"})\n",
    "df_race[\"race\"] = df_race[\"race\"].apply(lambda race : race_number_to_name(race))\n",
    "display(df_race)\n",
    "\n",
    "# bar plot by race\n",
    "ax = sns.barplot(x=\"race\", y=\"size\", data=df_race)\n",
    "ax.tick_params(axis='x', rotation=90)\n"
   ]
  },
  {
   "cell_type": "code",
   "execution_count": 182,
   "metadata": {},
   "outputs": [
    {
     "data": {
      "text/plain": [
       "Text(0.5, 1.0, \"Boxplot : Distidution de l'âge en fonction du genre\")"
      ]
     },
     "execution_count": 182,
     "metadata": {},
     "output_type": "execute_result"
    },
    {
     "data": {
      "image/png": "[encoded data removed]",
      "text/plain": [
       "<Figure size 360x360 with 1 Axes>"
      ]
     },
     "metadata": {},
     "output_type": "display_data"
    }
   ],
   "source": [
    "## age\n",
    "### sub dataframe\n",
    "df_age = df_dating[[\"iid\", \"gender\", \"age\"]]\n",
    "sns.catplot(x = 'gender', y = 'age', data = df_age, kind = 'box')\n",
    "plt.title(\"Boxplot: Age distribution by gender\")"
   ]
  },
  {
   "cell_type": "markdown",
   "metadata": {},
   "source": [
    "### Assumptions\n",
    "Assumption 1 : More chance of getting a date if you intend to just socialize? \\\n",
    "Assumption 2 : Men are afraid of intelligent, powerful women? \\\n",
    "Assumption 3 : Is religion an important factor in the choice of partners seeking marriage?"
   ]
  },
  {
   "cell_type": "markdown",
   "metadata": {},
   "source": [
    "#### AS1 : Is communuatarism a primary attribute in the choice of a partner?"
   ]
  },
  {
   "cell_type": "code",
   "execution_count": 179,
   "metadata": {},
   "outputs": [
    {
     "data": {
      "text/html": [
       "<div>\n",
       "<style scoped>\n",
       "    .dataframe tbody tr th:only-of-type {\n",
       "        vertical-align: middle;\n",
       "    }\n",
       "\n",
       "    .dataframe tbody tr th {\n",
       "        vertical-align: top;\n",
       "    }\n",
       "\n",
       "    .dataframe thead th {\n",
       "        text-align: right;\n",
       "    }\n",
       "</style>\n",
       "<table border=\"1\" class=\"dataframe\">\n",
       "  <thead>\n",
       "    <tr style=\"text-align: right;\">\n",
       "      <th></th>\n",
       "      <th>iid</th>\n",
       "      <th>match</th>\n",
       "      <th>goal</th>\n",
       "      <th>explain</th>\n",
       "    </tr>\n",
       "  </thead>\n",
       "  <tbody>\n",
       "    <tr>\n",
       "      <th>7462</th>\n",
       "      <td>511</td>\n",
       "      <td>0</td>\n",
       "      <td>2.0</td>\n",
       "      <td>To meet new people</td>\n",
       "    </tr>\n",
       "    <tr>\n",
       "      <th>4685</th>\n",
       "      <td>310</td>\n",
       "      <td>0</td>\n",
       "      <td>1.0</td>\n",
       "      <td>Seemed like a fun night out</td>\n",
       "    </tr>\n",
       "  </tbody>\n",
       "</table>\n",
       "</div>"
      ],
      "text/plain": [
       "      iid  match  goal                      explain\n",
       "7462  511      0   2.0           To meet new people\n",
       "4685  310      0   1.0  Seemed like a fun night out"
      ]
     },
     "metadata": {},
     "output_type": "display_data"
    },
    {
     "data": {
      "text/plain": [
       "452"
      ]
     },
     "metadata": {},
     "output_type": "display_data"
    },
    {
     "data": {
      "text/html": [
       "<div>\n",
       "<style scoped>\n",
       "    .dataframe tbody tr th:only-of-type {\n",
       "        vertical-align: middle;\n",
       "    }\n",
       "\n",
       "    .dataframe tbody tr th {\n",
       "        vertical-align: top;\n",
       "    }\n",
       "\n",
       "    .dataframe thead th {\n",
       "        text-align: right;\n",
       "    }\n",
       "</style>\n",
       "<table border=\"1\" class=\"dataframe\">\n",
       "  <thead>\n",
       "    <tr style=\"text-align: right;\">\n",
       "      <th></th>\n",
       "      <th>goal</th>\n",
       "      <th>match</th>\n",
       "      <th>explain</th>\n",
       "    </tr>\n",
       "  </thead>\n",
       "  <tbody>\n",
       "    <tr>\n",
       "      <th>0</th>\n",
       "      <td>1.0</td>\n",
       "      <td>42.5</td>\n",
       "      <td>Seemed like a fun night out</td>\n",
       "    </tr>\n",
       "    <tr>\n",
       "      <th>1</th>\n",
       "      <td>2.0</td>\n",
       "      <td>34.1</td>\n",
       "      <td>To meet new people</td>\n",
       "    </tr>\n",
       "    <tr>\n",
       "      <th>2</th>\n",
       "      <td>3.0</td>\n",
       "      <td>8.0</td>\n",
       "      <td>To get a date</td>\n",
       "    </tr>\n",
       "    <tr>\n",
       "      <th>3</th>\n",
       "      <td>4.0</td>\n",
       "      <td>4.2</td>\n",
       "      <td>Looking for a serious relationship</td>\n",
       "    </tr>\n",
       "    <tr>\n",
       "      <th>4</th>\n",
       "      <td>5.0</td>\n",
       "      <td>6.0</td>\n",
       "      <td>To say I did it</td>\n",
       "    </tr>\n",
       "    <tr>\n",
       "      <th>5</th>\n",
       "      <td>6.0</td>\n",
       "      <td>4.0</td>\n",
       "      <td>Other</td>\n",
       "    </tr>\n",
       "  </tbody>\n",
       "</table>\n",
       "</div>"
      ],
      "text/plain": [
       "   goal  match                             explain\n",
       "0   1.0   42.5         Seemed like a fun night out\n",
       "1   2.0   34.1                  To meet new people\n",
       "2   3.0    8.0                       To get a date\n",
       "3   4.0    4.2  Looking for a serious relationship\n",
       "4   5.0    6.0                     To say I did it\n",
       "5   6.0    4.0                               Other"
      ]
     },
     "metadata": {},
     "output_type": "display_data"
    },
    {
     "data": {
      "image/png": "[encoded data removed]",
      "text/plain": [
       "<Figure size 720x720 with 1 Axes>"
      ]
     },
     "metadata": {},
     "output_type": "display_data"
    }
   ],
   "source": [
    "# AS1\n",
    "## func \n",
    "def goal_number_to_name(goal_number) :\n",
    "    goal_name = None\n",
    "\n",
    "    if goal_number == 1 :\n",
    "        goal_name = \"Seemed like a fun night out\"\n",
    "\n",
    "    if goal_number == 2 :\n",
    "        goal_name = \"To meet new people\"\n",
    "\n",
    "    if goal_number == 3 :\n",
    "        goal_name = \"To get a date\"\n",
    "\n",
    "    if goal_number == 4 :\n",
    "        goal_name = \"Looking for a serious relationship\"\n",
    "\n",
    "    if goal_number == 5 :\n",
    "        goal_name = \"To say I did it\"\n",
    "\n",
    "    if goal_number == 6 :\n",
    "        goal_name = \"Other\"\n",
    "\n",
    "    return goal_name\n",
    "\n",
    "# fetch goal attributes\n",
    "df_goal = df_dating[[\"iid\", \"match\", \"goal\"]].copy()\n",
    "df_goal[\"explain\"] = df_goal[\"goal\"].apply(lambda goal_number : goal_number_to_name(goal_number))\n",
    "display(df_goal.sample(2))\n",
    "\n",
    "# number of people who got a match\n",
    "total_match = len(df_goal[df_goal[\"match\"]==1].iid.unique())\n",
    "display(total_match)\n",
    "\n",
    "# number of matches by goal (unique iid)\n",
    "df_matches_by_goal = df_goal[df_goal[\"match\"]==1] \\\n",
    "                    .groupby(\"iid\") \\\n",
    "                    .first() \\\n",
    "                    .groupby(\"goal\") \\\n",
    "                    .count()\n",
    "\n",
    "# number of matches by goal in percentage\n",
    "df_matches_by_goal = pd.DataFrame(round(100 * (df_matches_by_goal[\"match\"] / total_match), 1))\\\n",
    "                    .reset_index()\n",
    "\n",
    "# transform goal number to label\n",
    "df_matches_by_goal[\"explain\"] = df_matches_by_goal[\"goal\"] \\\n",
    "                                .apply(lambda goal_number : goal_number_to_name(goal_number))\n",
    "\n",
    "display(df_matches_by_goal)\n",
    "\n",
    "\n",
    "# pi charts of matches by people intention\n",
    "match_goal = df_matches_by_goal[\"match\"].values\n",
    "names = list(df_matches_by_goal[\"explain\"].unique())\n",
    "explode = (0.05,0,0,0,0,0)\n",
    "\n",
    "fig, ax = plt.subplots(figsize=(10,10))\n",
    "_ = ax.pie(match_goal, labels=names, \n",
    "       autopct=\"%1.1f%%\", \n",
    "       explode=explode, \n",
    "       shadow=False,\n",
    "       startangle=90) #colors=color_palette[:4],"
   ]
  },
  {
   "cell_type": "markdown",
   "metadata": {},
   "source": [
    "### Probability (2nd date)"
   ]
  },
  {
   "cell_type": "markdown",
   "metadata": {},
   "source": []
  }
 ],
 "metadata": {
  "interpreter": {
   "hash": "4aea3b70264e9812752170776030d97c60348f25218c7a380fc443a3aba35e1a"
  },
  "kernelspec": {
   "display_name": "Python 3.8.3 64-bit ('auth': venv)",
   "language": "python",
   "name": "python3"
  },
  "language_info": {
   "codemirror_mode": {
    "name": "ipython",
    "version": 3
   },
   "file_extension": ".py",
   "mimetype": "text/x-python",
   "name": "python",
   "nbconvert_exporter": "python",
   "pygments_lexer": "ipython3",
   "version": "3.8.3"
  },
  "orig_nbformat": 4
 },
 "nbformat": 4,
 "nbformat_minor": 2
}
